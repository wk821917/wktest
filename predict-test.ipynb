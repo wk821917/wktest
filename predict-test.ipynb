{
 "cells": [
  {
   "cell_type": "markdown",
   "metadata": {},
   "source": [
    "## connect ML with watson studio"
   ]
  },
  {
   "cell_type": "code",
   "execution_count": 1,
   "metadata": {
    "scrolled": true
   },
   "outputs": [
    {
     "name": "stdout",
     "output_type": "stream",
     "text": [
      "Requirement not upgraded as not directly required: hickle in /opt/conda/envs/DSX-Python35/lib/python3.5/site-packages\n",
      "Requirement not upgraded as not directly required: h5py in /opt/conda/envs/DSX-Python35/lib/python3.5/site-packages (from hickle)\n",
      "Requirement not upgraded as not directly required: numpy in /opt/conda/envs/DSX-Python35/lib/python3.5/site-packages (from hickle)\n",
      "Requirement not upgraded as not directly required: six in /opt/conda/envs/DSX-Python35/lib/python3.5/site-packages (from h5py->hickle)\n"
     ]
    }
   ],
   "source": [
    "!pip install hickle"
   ]
  },
  {
   "cell_type": "code",
   "execution_count": 2,
   "metadata": {},
   "outputs": [],
   "source": [
    "import hickle as hkl"
   ]
  },
  {
   "cell_type": "code",
   "execution_count": 3,
   "metadata": {
    "scrolled": true
   },
   "outputs": [],
   "source": [
    "wml_credentials = {\n",
    "  \"apikey\": \"pTnqNZ0XAffootUTOqc1XMomvp4I3EbyaSd8AkbiZ21g\",\n",
    "  \"iam_apikey_description\": \"Auto generated apikey during resource-key operation for Instance - crn:v1:bluemix:public:pm-20:us-south:a/4171c5a3fdf4490ba445218f5bcdea3a:760eae04-56a0-43a8-b03b-f8debca2d81e::\",\n",
    "  \"iam_apikey_name\": \"auto-generated-apikey-55cc61b4-90a1-41f0-b4a0-7804cdb95aa9\",\n",
    "  \"iam_role_crn\": \"crn:v1:bluemix:public:iam::::serviceRole:Writer\",\n",
    "  \"iam_serviceid_crn\": \"crn:v1:bluemix:public:iam-identity::a/4171c5a3fdf4490ba445218f5bcdea3a::serviceid:ServiceId-ba4b4153-cba7-434c-996a-c29ee7de6c4d\",\n",
    "  \"instance_id\": \"760eae04-56a0-43a8-b03b-f8debca2d81e\",\n",
    "  \"password\": \"6c716585-43b5-40f3-8320-19cfd03b6247\",\n",
    "  \"url\": \"https://us-south.ml.cloud.ibm.com\",\n",
    "  \"username\": \"55cc61b4-90a1-41f0-b4a0-7804cdb95aa9\"\n",
    "}\n",
    "# {\n",
    "#   \"username\": \"40ea98c9-c60a-456e-99ab-090351e3f2db\",\n",
    "#   \"password\": \"bf0af857-b4db-4f41-a47f-846f0f674b98\",\n",
    "#   \"instance_id\": \"33d61830-8733-4fa7-8186-95becacae85a\",\n",
    "#   \"url\": \"https://us-south.ml.cloud.ibm.com\"\n",
    "# }"
   ]
  },
  {
   "cell_type": "code",
   "execution_count": 4,
   "metadata": {},
   "outputs": [
    {
     "name": "stdout",
     "output_type": "stream",
     "text": [
      "Requirement already up-to-date: watson-machine-learning-client in /opt/conda/envs/DSX-Python35/lib/python3.5/site-packages\n",
      "Requirement not upgraded as not directly required: tqdm in /opt/conda/envs/DSX-Python35/lib/python3.5/site-packages (from watson-machine-learning-client)\n",
      "Requirement not upgraded as not directly required: ibm-cos-sdk in /opt/conda/envs/DSX-Python35/lib/python3.5/site-packages (from watson-machine-learning-client)\n",
      "Requirement not upgraded as not directly required: lomond in /opt/conda/envs/DSX-Python35/lib/python3.5/site-packages (from watson-machine-learning-client)\n",
      "Requirement not upgraded as not directly required: certifi in /opt/conda/envs/DSX-Python35/lib/python3.5/site-packages (from watson-machine-learning-client)\n",
      "Requirement not upgraded as not directly required: tabulate in /opt/conda/envs/DSX-Python35/lib/python3.5/site-packages (from watson-machine-learning-client)\n",
      "Requirement not upgraded as not directly required: pandas in /opt/conda/envs/DSX-Python35/lib/python3.5/site-packages (from watson-machine-learning-client)\n",
      "Requirement not upgraded as not directly required: requests in /opt/conda/envs/DSX-Python35/lib/python3.5/site-packages (from watson-machine-learning-client)\n",
      "Requirement not upgraded as not directly required: urllib3 in /opt/conda/envs/DSX-Python35/lib/python3.5/site-packages (from watson-machine-learning-client)\n",
      "Requirement not upgraded as not directly required: ibm-cos-sdk-core==2.*,>=2.0.0 in /opt/conda/envs/DSX-Python35/lib/python3.5/site-packages (from ibm-cos-sdk->watson-machine-learning-client)\n",
      "Requirement not upgraded as not directly required: ibm-cos-sdk-s3transfer==2.*,>=2.0.0 in /opt/conda/envs/DSX-Python35/lib/python3.5/site-packages (from ibm-cos-sdk->watson-machine-learning-client)\n",
      "Requirement not upgraded as not directly required: six>=1.10.0 in /opt/conda/envs/DSX-Python35/lib/python3.5/site-packages (from lomond->watson-machine-learning-client)\n",
      "Requirement not upgraded as not directly required: python-dateutil>=2 in /opt/conda/envs/DSX-Python35/lib/python3.5/site-packages (from pandas->watson-machine-learning-client)\n",
      "Requirement not upgraded as not directly required: pytz>=2011k in /opt/conda/envs/DSX-Python35/lib/python3.5/site-packages (from pandas->watson-machine-learning-client)\n",
      "Requirement not upgraded as not directly required: numpy>=1.9.0 in /opt/conda/envs/DSX-Python35/lib/python3.5/site-packages (from pandas->watson-machine-learning-client)\n",
      "Requirement not upgraded as not directly required: chardet<3.1.0,>=3.0.2 in /opt/conda/envs/DSX-Python35/lib/python3.5/site-packages (from requests->watson-machine-learning-client)\n",
      "Requirement not upgraded as not directly required: idna<2.7,>=2.5 in /opt/conda/envs/DSX-Python35/lib/python3.5/site-packages (from requests->watson-machine-learning-client)\n",
      "Requirement not upgraded as not directly required: jmespath<1.0.0,>=0.7.1 in /opt/conda/envs/DSX-Python35/lib/python3.5/site-packages (from ibm-cos-sdk-core==2.*,>=2.0.0->ibm-cos-sdk->watson-machine-learning-client)\n",
      "Requirement not upgraded as not directly required: docutils>=0.10 in /opt/conda/envs/DSX-Python35/lib/python3.5/site-packages (from ibm-cos-sdk-core==2.*,>=2.0.0->ibm-cos-sdk->watson-machine-learning-client)\n"
     ]
    }
   ],
   "source": [
    "!pip install --upgrade watson-machine-learning-client"
   ]
  },
  {
   "cell_type": "code",
   "execution_count": 5,
   "metadata": {},
   "outputs": [],
   "source": [
    "!rm -rf $PIP_BUILD/watson-machine-learning-client"
   ]
  },
  {
   "cell_type": "code",
   "execution_count": 6,
   "metadata": {},
   "outputs": [
    {
     "name": "stdout",
     "output_type": "stream",
     "text": [
      "Requirement already up-to-date: watson-machine-learning-client in /opt/conda/envs/DSX-Python35/lib/python3.5/site-packages\n",
      "Requirement not upgraded as not directly required: ibm-cos-sdk in /opt/conda/envs/DSX-Python35/lib/python3.5/site-packages (from watson-machine-learning-client)\n",
      "Requirement not upgraded as not directly required: pandas in /opt/conda/envs/DSX-Python35/lib/python3.5/site-packages (from watson-machine-learning-client)\n",
      "Requirement not upgraded as not directly required: certifi in /opt/conda/envs/DSX-Python35/lib/python3.5/site-packages (from watson-machine-learning-client)\n",
      "Requirement not upgraded as not directly required: tabulate in /opt/conda/envs/DSX-Python35/lib/python3.5/site-packages (from watson-machine-learning-client)\n",
      "Requirement not upgraded as not directly required: tqdm in /opt/conda/envs/DSX-Python35/lib/python3.5/site-packages (from watson-machine-learning-client)\n",
      "Requirement not upgraded as not directly required: lomond in /opt/conda/envs/DSX-Python35/lib/python3.5/site-packages (from watson-machine-learning-client)\n",
      "Requirement not upgraded as not directly required: urllib3 in /opt/conda/envs/DSX-Python35/lib/python3.5/site-packages (from watson-machine-learning-client)\n",
      "Requirement not upgraded as not directly required: requests in /opt/conda/envs/DSX-Python35/lib/python3.5/site-packages (from watson-machine-learning-client)\n",
      "Requirement not upgraded as not directly required: ibm-cos-sdk-core==2.*,>=2.0.0 in /opt/conda/envs/DSX-Python35/lib/python3.5/site-packages (from ibm-cos-sdk->watson-machine-learning-client)\n",
      "Requirement not upgraded as not directly required: ibm-cos-sdk-s3transfer==2.*,>=2.0.0 in /opt/conda/envs/DSX-Python35/lib/python3.5/site-packages (from ibm-cos-sdk->watson-machine-learning-client)\n",
      "Requirement not upgraded as not directly required: python-dateutil>=2 in /opt/conda/envs/DSX-Python35/lib/python3.5/site-packages (from pandas->watson-machine-learning-client)\n",
      "Requirement not upgraded as not directly required: pytz>=2011k in /opt/conda/envs/DSX-Python35/lib/python3.5/site-packages (from pandas->watson-machine-learning-client)\n",
      "Requirement not upgraded as not directly required: numpy>=1.9.0 in /opt/conda/envs/DSX-Python35/lib/python3.5/site-packages (from pandas->watson-machine-learning-client)\n",
      "Requirement not upgraded as not directly required: six>=1.10.0 in /opt/conda/envs/DSX-Python35/lib/python3.5/site-packages (from lomond->watson-machine-learning-client)\n",
      "Requirement not upgraded as not directly required: chardet<3.1.0,>=3.0.2 in /opt/conda/envs/DSX-Python35/lib/python3.5/site-packages (from requests->watson-machine-learning-client)\n",
      "Requirement not upgraded as not directly required: idna<2.7,>=2.5 in /opt/conda/envs/DSX-Python35/lib/python3.5/site-packages (from requests->watson-machine-learning-client)\n",
      "Requirement not upgraded as not directly required: docutils>=0.10 in /opt/conda/envs/DSX-Python35/lib/python3.5/site-packages (from ibm-cos-sdk-core==2.*,>=2.0.0->ibm-cos-sdk->watson-machine-learning-client)\n",
      "Requirement not upgraded as not directly required: jmespath<1.0.0,>=0.7.1 in /opt/conda/envs/DSX-Python35/lib/python3.5/site-packages (from ibm-cos-sdk-core==2.*,>=2.0.0->ibm-cos-sdk->watson-machine-learning-client)\n"
     ]
    }
   ],
   "source": [
    "!pip install --upgrade watson-machine-learning-client"
   ]
  },
  {
   "cell_type": "code",
   "execution_count": 7,
   "metadata": {},
   "outputs": [
    {
     "name": "stderr",
     "output_type": "stream",
     "text": [
      "2018-07-27 09:15:39,796 - watson_machine_learning_client.metanames - WARNING - 'AUTHOR_EMAIL' meta prop is deprecated. It will be ignored.\n",
      "2018-07-27 09:15:41,857 - watson_machine_learning_client.metanames - WARNING - 'AUTHOR_EMAIL' meta prop is deprecated. It will be ignored.\n"
     ]
    }
   ],
   "source": [
    "from watson_machine_learning_client import WatsonMachineLearningAPIClient"
   ]
  },
  {
   "cell_type": "code",
   "execution_count": 8,
   "metadata": {},
   "outputs": [],
   "source": [
    "client = WatsonMachineLearningAPIClient(wml_credentials)"
   ]
  },
  {
   "cell_type": "code",
   "execution_count": 9,
   "metadata": {
    "scrolled": true
   },
   "outputs": [
    {
     "name": "stdout",
     "output_type": "stream",
     "text": [
      "1.0.260\n"
     ]
    }
   ],
   "source": [
    "print(client.version)"
   ]
  },
  {
   "cell_type": "code",
   "execution_count": null,
   "metadata": {},
   "outputs": [],
   "source": []
  },
  {
   "cell_type": "code",
   "execution_count": null,
   "metadata": {},
   "outputs": [],
   "source": []
  },
  {
   "cell_type": "code",
   "execution_count": null,
   "metadata": {},
   "outputs": [],
   "source": []
  },
  {
   "cell_type": "code",
   "execution_count": null,
   "metadata": {},
   "outputs": [],
   "source": []
  },
  {
   "cell_type": "code",
   "execution_count": null,
   "metadata": {},
   "outputs": [],
   "source": []
  },
  {
   "cell_type": "markdown",
   "metadata": {},
   "source": [
    "## connect storge with watson studio"
   ]
  },
  {
   "cell_type": "code",
   "execution_count": 10,
   "metadata": {},
   "outputs": [],
   "source": [
    "import ibm_boto3\n",
    "from ibm_botocore.client import Config\n",
    "import os\n",
    "import json\n",
    "import warnings\n",
    "import time"
   ]
  },
  {
   "cell_type": "code",
   "execution_count": 11,
   "metadata": {},
   "outputs": [],
   "source": [
    "\n",
    "\n",
    "cos_credentials = {\n",
    "  \"apikey\": \"eUU7ks-YstaFkkEjoIVEsUkvU2_mUq-tcwfyQamY6kim\",\n",
    "  \"cos_hmac_keys\": {\n",
    "    \"access_key_id\": \"f1ac76f0074244f9a07d5debb286f122\",\n",
    "    \"secret_access_key\": \"c623bb131af41897c674eec7f7700446fdbeecf6c993d105\"\n",
    "  },\n",
    "  \"endpoints\": \"https://cos-service.bluemix.net/endpoints\",\n",
    "  \"iam_apikey_description\": \"Auto generated apikey during resource-key operation for Instance - crn:v1:bluemix:public:cloud-object-storage:global:a/4171c5a3fdf4490ba445218f5bcdea3a:ddbf4da0-34e3-4055-aba2-6b23b0b2b78b::\",\n",
    "  \"iam_apikey_name\": \"auto-generated-apikey-f1ac76f0-0742-44f9-a07d-5debb286f122\",\n",
    "  \"iam_role_crn\": \"crn:v1:bluemix:public:iam::::serviceRole:Writer\",\n",
    "  \"iam_serviceid_crn\": \"crn:v1:bluemix:public:iam-identity::a/4171c5a3fdf4490ba445218f5bcdea3a::serviceid:ServiceId-ed5194dd-dab1-411b-b53c-df5f95c3d594\",\n",
    "  \"resource_instance_id\": \"crn:v1:bluemix:public:cloud-object-storage:global:a/4171c5a3fdf4490ba445218f5bcdea3a:ddbf4da0-34e3-4055-aba2-6b23b0b2b78b::\"\n",
    "}\n",
    "\n",
    "api_key = cos_credentials['apikey']\n",
    "service_instance_id = cos_credentials['resource_instance_id']\n",
    "\n"
   ]
  },
  {
   "cell_type": "code",
   "execution_count": 12,
   "metadata": {},
   "outputs": [],
   "source": [
    "service_endpoint = 'https://s3-api.us-geo.objectstorage.softlayer.net'"
   ]
  },
  {
   "cell_type": "code",
   "execution_count": 13,
   "metadata": {},
   "outputs": [],
   "source": [
    "auth_endpoint = 'https://iam.bluemix.net/oidc/token'"
   ]
  },
  {
   "cell_type": "code",
   "execution_count": 14,
   "metadata": {},
   "outputs": [],
   "source": [
    "cos = ibm_boto3.resource ('s3',\n",
    "                         ibm_api_key_id=api_key,\n",
    "                         ibm_service_instance_id=service_instance_id,\n",
    "                         ibm_auth_endpoint=auth_endpoint,\n",
    "                         config=Config(signature_version='oauth'),\n",
    "                         endpoint_url=service_endpoint)"
   ]
  },
  {
   "cell_type": "code",
   "execution_count": 15,
   "metadata": {},
   "outputs": [],
   "source": [
    "buckets = ['wktest1', 'predict']\n",
    "for bucket in buckets:\n",
    "    if not cos.Bucket(bucket) in cos.buckets.all():\n",
    "        print('Creating bucket \"{}\"...'.format(bucket))\n",
    "        try:\n",
    "            cos.create_bucket(Bucket=bucket)\n",
    "        except ibm_boto3.exceptions.ibm_botocore.client.ClientError as e:\n",
    "            print('Error: {}.'.format(e.response['Error']['Message']))"
   ]
  },
  {
   "cell_type": "code",
   "execution_count": 16,
   "metadata": {
    "scrolled": true
   },
   "outputs": [
    {
     "name": "stdout",
     "output_type": "stream",
     "text": [
      "[s3.Bucket(name='newproject-donotdelete-pr-fv0nfbh7kpcho3'), s3.Bucket(name='predict'), s3.Bucket(name='wktest1'), s3.Bucket(name='wktest2'), s3.Bucket(name='wktest3'), s3.Bucket(name='wktest4')]\n"
     ]
    }
   ],
   "source": [
    "print(list(cos.buckets.all()))"
   ]
  },
  {
   "cell_type": "code",
   "execution_count": null,
   "metadata": {},
   "outputs": [],
   "source": []
  },
  {
   "cell_type": "code",
   "execution_count": null,
   "metadata": {},
   "outputs": [],
   "source": []
  },
  {
   "cell_type": "code",
   "execution_count": null,
   "metadata": {},
   "outputs": [],
   "source": []
  },
  {
   "cell_type": "code",
   "execution_count": null,
   "metadata": {},
   "outputs": [],
   "source": []
  },
  {
   "cell_type": "code",
   "execution_count": null,
   "metadata": {},
   "outputs": [],
   "source": []
  },
  {
   "cell_type": "code",
   "execution_count": null,
   "metadata": {},
   "outputs": [],
   "source": []
  },
  {
   "cell_type": "code",
   "execution_count": null,
   "metadata": {},
   "outputs": [],
   "source": []
  },
  {
   "cell_type": "markdown",
   "metadata": {},
   "source": [
    "## download file from github and upload to storge"
   ]
  },
  {
   "cell_type": "code",
   "execution_count": 17,
   "metadata": {},
   "outputs": [],
   "source": [
    "name = 'wktest2'\n",
    "bucket_obj = cos.Bucket(name)"
   ]
  },
  {
   "cell_type": "code",
   "execution_count": 18,
   "metadata": {},
   "outputs": [
    {
     "name": "stdout",
     "output_type": "stream",
     "text": [
      "rm: cannot remove ‘lstm.json’: No such file or directory\r\n"
     ]
    }
   ],
   "source": [
    "!rm lstm.json"
   ]
  },
  {
   "cell_type": "code",
   "execution_count": 19,
   "metadata": {},
   "outputs": [],
   "source": [
    "bucket_obj.download_file('training-o3hdtoFiR/model/lstm.json', './lstm.json')\n",
    "bucket_obj.download_file('training-o3hdtoFiR/weight/weight.hdf5', './weight.hdf5')"
   ]
  },
  {
   "cell_type": "code",
   "execution_count": 20,
   "metadata": {
    "scrolled": true
   },
   "outputs": [
    {
     "name": "stdout",
     "output_type": "stream",
     "text": [
      "lstm.json  master-add.zip  master.zip  weight.hdf5  \u001b[0m\u001b[01;34mwktest-master\u001b[0m/\r\n"
     ]
    }
   ],
   "source": [
    "ls"
   ]
  },
  {
   "cell_type": "code",
   "execution_count": 21,
   "metadata": {},
   "outputs": [],
   "source": [
    "# name1 = 'predict'\n",
    "# bucket_obj1 = cos.Bucket(name1)"
   ]
  },
  {
   "cell_type": "code",
   "execution_count": 22,
   "metadata": {},
   "outputs": [],
   "source": [
    "# bucket_obj1.upload_file('./lstm.json', 'lstm.json')\n",
    "# bucket_obj1.upload_file('./weight.hdf5', 'weight.hdf5')"
   ]
  },
  {
   "cell_type": "code",
   "execution_count": null,
   "metadata": {},
   "outputs": [],
   "source": []
  },
  {
   "cell_type": "markdown",
   "metadata": {},
   "source": [
    "## train as https://dataplatform.cloud.ibm.com/docs/content/analyze-data/ml-python-mnist-tutorial.html?context=analytics"
   ]
  },
  {
   "cell_type": "code",
   "execution_count": 23,
   "metadata": {},
   "outputs": [],
   "source": [
    "metadata = {\n",
    "    client.repository.DefinitionMetaNames.NAME              : \"python-client-tutorial_training-definition\",\n",
    "    client.repository.DefinitionMetaNames.AUTHOR_EMAIL      : \"wk821917@163com\",\n",
    "    client.repository.DefinitionMetaNames.FRAMEWORK_NAME    : \"tensorflow\",\n",
    "    client.repository.DefinitionMetaNames.FRAMEWORK_VERSION : \"1.5\",\n",
    "    client.repository.DefinitionMetaNames.RUNTIME_NAME      : \"python\",\n",
    "    client.repository.DefinitionMetaNames.RUNTIME_VERSION   : \"3.5\",\n",
    "    client.repository.DefinitionMetaNames.EXECUTION_COMMAND : \"python3 wktest-master/predict_lstm.py\"#--trainImagesFile ${DATA_DIR}/train-images-idx3-ubyte.gz --trainLabelsFile ${DATA_DIR}/train-labels-idx1-ubyte.gz --testImagesFile ${DATA_DIR}/t10k-images-idx3-ubyte.gz --testLabelsFile ${DATA_DIR}/t10k-labels-idx1-ubyte.gz --learningRate 0.001 --trainingIters 20000\"\n",
    "}"
   ]
  },
  {
   "cell_type": "code",
   "execution_count": 24,
   "metadata": {},
   "outputs": [],
   "source": [
    "!rm master.zip"
   ]
  },
  {
   "cell_type": "code",
   "execution_count": 25,
   "metadata": {},
   "outputs": [],
   "source": [
    "!rm -r wktest-master/"
   ]
  },
  {
   "cell_type": "code",
   "execution_count": 26,
   "metadata": {},
   "outputs": [
    {
     "name": "stdout",
     "output_type": "stream",
     "text": [
      "--2018-07-27 09:15:34--  https://github.com/wk821917/wktest/archive/master.zip\n",
      "Resolving github.com (github.com)... 192.30.253.113, 192.30.253.112\n",
      "Connecting to github.com (github.com)|192.30.253.113|:443... connected.\n",
      "HTTP request sent, awaiting response... 302 Found\n",
      "Location: https://codeload.github.com/wk821917/wktest/zip/master [following]\n",
      "--2018-07-27 09:15:34--  https://codeload.github.com/wk821917/wktest/zip/master\n",
      "Resolving codeload.github.com (codeload.github.com)... 192.30.253.121, 192.30.253.120\n",
      "Connecting to codeload.github.com (codeload.github.com)|192.30.253.121|:443... connected.\n",
      "HTTP request sent, awaiting response... 200 OK\n",
      "Length: unspecified [application/zip]\n",
      "Saving to: ‘master.zip’\n",
      "\n",
      "    [ <=>                                   ] 911,305     4.61MB/s   in 0.2s   \n",
      "\n",
      "2018-07-27 09:15:35 (4.61 MB/s) - ‘master.zip’ saved [911305]\n",
      "\n"
     ]
    }
   ],
   "source": [
    "!wget https://github.com/wk821917/wktest/archive/master.zip"
   ]
  },
  {
   "cell_type": "code",
   "execution_count": 27,
   "metadata": {},
   "outputs": [
    {
     "name": "stdout",
     "output_type": "stream",
     "text": [
      "lstm.json  master-add.zip  master.zip  weight.hdf5\r\n"
     ]
    }
   ],
   "source": [
    "!ls"
   ]
  },
  {
   "cell_type": "code",
   "execution_count": 28,
   "metadata": {},
   "outputs": [
    {
     "name": "stdout",
     "output_type": "stream",
     "text": [
      "Archive:  master.zip\r\n",
      "aa12cef8ad909159a85923f3cec75752ce6555ad\r\n",
      "   creating: wktest-master/\r\n",
      "  inflating: wktest-master/IBM_ML_KMeans_Test.ipynb  \r\n",
      "  inflating: wktest-master/ML_KMeans.py  \r\n",
      "  inflating: wktest-master/MY_IBM_TEST_3__r1ge3tK7X.ipynb  \r\n",
      " extracting: wktest-master/README.md  \r\n",
      "  inflating: wktest-master/actdata.csv  \r\n",
      "  inflating: wktest-master/classifier_test.ipynb  \r\n",
      "  inflating: wktest-master/lstmtest.py  \r\n",
      "  inflating: wktest-master/predict_data.csv  \r\n",
      "  inflating: wktest-master/predict_lstm.py  \r\n",
      "  inflating: wktest-master/water-tilt.csv  \r\n"
     ]
    }
   ],
   "source": [
    "!unzip master"
   ]
  },
  {
   "cell_type": "code",
   "execution_count": 29,
   "metadata": {},
   "outputs": [
    {
     "name": "stdout",
     "output_type": "stream",
     "text": [
      "import os\r\n",
      "import numpy as np\r\n",
      "from six.moves import cPickle\r\n",
      "import matplotlib\r\n",
      "matplotlib.use('Agg')\r\n",
      "import matplotlib.pyplot as plt\r\n",
      "import matplotlib.gridspec as gridspec\r\n",
      "import pandas as pd\r\n",
      "from pandas import Series, DataFrame\r\n",
      "\r\n",
      "from keras import backend as K\r\n",
      "from keras.models import Model, model_from_json\r\n",
      "from keras.layers import Input, Dense, Flatten\r\n",
      "\r\n",
      "data = pd.read_csv('wktest-master/predict_data.csv')\r\n",
      "f = open('wktest-master/lstm.json', 'r')\r\n",
      "json_string = f.read()\r\n",
      "f.close()\r\n",
      "\r\n",
      "model = model_from_json(json_string)\r\n",
      "model.load_weights('wktest-master/weight.hdf5')\r\n",
      "\r\n",
      "print(json_string)\r\n"
     ]
    }
   ],
   "source": [
    "!cat wktest-master/predict_lstm.py"
   ]
  },
  {
   "cell_type": "code",
   "execution_count": 30,
   "metadata": {
    "scrolled": true
   },
   "outputs": [],
   "source": [
    "!mv lstm.json wktest-master/\n",
    "!mv weight.hdf5 wktest-master/"
   ]
  },
  {
   "cell_type": "code",
   "execution_count": 31,
   "metadata": {},
   "outputs": [],
   "source": [
    "!zip -q -r master-add.zip wktest-master/"
   ]
  },
  {
   "cell_type": "code",
   "execution_count": 32,
   "metadata": {},
   "outputs": [
    {
     "name": "stdout",
     "output_type": "stream",
     "text": [
      "master-add.zip  master.zip  \u001b[0m\u001b[01;34mwktest-master\u001b[0m/\r\n"
     ]
    }
   ],
   "source": [
    "ls"
   ]
  },
  {
   "cell_type": "code",
   "execution_count": null,
   "metadata": {},
   "outputs": [],
   "source": []
  },
  {
   "cell_type": "code",
   "execution_count": null,
   "metadata": {},
   "outputs": [],
   "source": []
  },
  {
   "cell_type": "code",
   "execution_count": null,
   "metadata": {},
   "outputs": [],
   "source": []
  },
  {
   "cell_type": "code",
   "execution_count": 33,
   "metadata": {
    "scrolled": false
   },
   "outputs": [
    {
     "name": "stdout",
     "output_type": "stream",
     "text": [
      "definition_uid:  e1e54321-4a04-4fef-9850-1758a7022575\n"
     ]
    }
   ],
   "source": [
    "definition_details = client.repository.store_definition( \"master-add.zip\", meta_props=metadata )\n",
    "definition_uid     = client.repository.get_definition_uid( definition_details )\n",
    "print( \"definition_uid: \", definition_uid )"
   ]
  },
  {
   "cell_type": "code",
   "execution_count": 34,
   "metadata": {},
   "outputs": [],
   "source": [
    "metadata = {\n",
    "client.training.ConfigurationMetaNames.NAME         : \"python-client-tutorial_training-run\",\n",
    "client.training.ConfigurationMetaNames.AUTHOR_EMAIL : \"wk281917@163.com\",\n",
    "client.training.ConfigurationMetaNames.TRAINING_DATA_REFERENCE : {\n",
    "   \"connection\" : { \n",
    "      \"endpoint_url\"          : \"https://s3-api.us-geo.objectstorage.softlayer.net\",\n",
    "      \"aws_access_key_id\"     : \"f1ac76f0074244f9a07d5debb286f122\",\n",
    "      \"aws_secret_access_key\" : \"c623bb131af41897c674eec7f7700446fdbeecf6c993d105\"\n",
    "      },\n",
    "   \"source\" : { \n",
    "      \"bucket\" : \"wktest2\",\n",
    "      },\n",
    "      \"type\" : \"s3\"\n",
    "   },\n",
    "client.training.ConfigurationMetaNames.TRAINING_RESULTS_REFERENCE: {\n",
    "   \"connection\" : {\n",
    "      \"endpoint_url\"          : \"https://s3-api.us-geo.objectstorage.softlayer.net\",\n",
    "      \"aws_access_key_id\"     : \"f1ac76f0074244f9a07d5debb286f122\",\n",
    "      \"aws_secret_access_key\" : \"c623bb131af41897c674eec7f7700446fdbeecf6c993d105\"\n",
    "      },\n",
    "      \"target\" : {\n",
    "         \"bucket\" : \"predict\",\n",
    "      },\n",
    "      \"type\" : \"s3\"\n",
    "   }\n",
    "}"
   ]
  },
  {
   "cell_type": "code",
   "execution_count": 35,
   "metadata": {},
   "outputs": [
    {
     "name": "stdout",
     "output_type": "stream",
     "text": [
      "run_uid:  training-G2s-NAKiR\n"
     ]
    }
   ],
   "source": [
    "run_details = client.training.run( definition_uid, meta_props=metadata )\n",
    "run_uid     = client.training.get_run_uid( run_details )\n",
    "print( \"run_uid: \", run_uid )"
   ]
  },
  {
   "cell_type": "code",
   "execution_count": 78,
   "metadata": {
    "scrolled": true
   },
   "outputs": [
    {
     "name": "stdout",
     "output_type": "stream",
     "text": [
      "{'metrics': [], 'submitted_at': '2018-07-27T09:15:44Z', 'state': 'running', 'running_at': '2018-07-27T09:16:32Z', 'current_at': '2018-07-27T09:17:22Z'}\n",
      "{'metrics': [], 'submitted_at': '2018-07-27T09:15:44Z', 'state': 'running', 'running_at': '2018-07-27T09:16:32Z', 'current_at': '2018-07-27T09:17:32Z'}\n",
      "{'metrics': [], 'submitted_at': '2018-07-27T09:15:44Z', 'state': 'running', 'running_at': '2018-07-27T09:16:32Z', 'current_at': '2018-07-27T09:17:42Z'}\n",
      "{'metrics': [], 'submitted_at': '2018-07-27T09:15:44Z', 'state': 'running', 'running_at': '2018-07-27T09:16:32Z', 'current_at': '2018-07-27T09:17:52Z'}\n",
      "{'metrics': [], 'submitted_at': '2018-07-27T09:15:44Z', 'state': 'running', 'running_at': '2018-07-27T09:16:54Z', 'current_at': '2018-07-27T09:18:02Z'}\n",
      "{'metrics': [], 'submitted_at': '2018-07-27T09:15:44Z', 'state': 'running', 'running_at': '2018-07-27T09:16:54Z', 'current_at': '2018-07-27T09:18:12Z'}\n",
      "{'metrics': [], 'submitted_at': '2018-07-27T09:15:44Z', 'state': 'running', 'running_at': '2018-07-27T09:16:54Z', 'current_at': '2018-07-27T09:18:22Z'}\n",
      "{'metrics': [], 'submitted_at': '2018-07-27T09:15:44Z', 'state': 'running', 'running_at': '2018-07-27T09:16:54Z', 'current_at': '2018-07-27T09:18:32Z'}\n",
      "{'metrics': [], 'submitted_at': '2018-07-27T09:15:44Z', 'state': 'running', 'running_at': '2018-07-27T09:16:54Z', 'current_at': '2018-07-27T09:18:43Z'}\n",
      "{'current_at': '2018-07-27T09:18:53Z', 'state': 'completed', 'running_at': '2018-07-27T09:16:54Z', 'finished_at': '2018-07-27T09:18:40Z', 'metrics': [], 'submitted_at': '2018-07-27T09:15:44Z'}\n",
      "{'current_at': '2018-07-27T09:18:53Z', 'state': 'completed', 'running_at': '2018-07-27T09:16:54Z', 'finished_at': '2018-07-27T09:18:40Z', 'metrics': [], 'submitted_at': '2018-07-27T09:15:44Z'}\n",
      "{'current_at': '2018-07-27T09:18:53Z', 'state': 'completed', 'running_at': '2018-07-27T09:16:54Z', 'finished_at': '2018-07-27T09:18:40Z', 'metrics': [], 'submitted_at': '2018-07-27T09:15:44Z'}\n",
      "{'current_at': '2018-07-27T09:18:53Z', 'state': 'completed', 'running_at': '2018-07-27T09:16:54Z', 'finished_at': '2018-07-27T09:18:40Z', 'metrics': [], 'submitted_at': '2018-07-27T09:15:44Z'}\n",
      "{'current_at': '2018-07-27T09:18:53Z', 'state': 'completed', 'running_at': '2018-07-27T09:16:54Z', 'finished_at': '2018-07-27T09:18:40Z', 'metrics': [], 'submitted_at': '2018-07-27T09:15:44Z'}\n",
      "{'current_at': '2018-07-27T09:18:53Z', 'state': 'completed', 'running_at': '2018-07-27T09:16:54Z', 'finished_at': '2018-07-27T09:18:40Z', 'metrics': [], 'submitted_at': '2018-07-27T09:15:44Z'}\n",
      "{'current_at': '2018-07-27T09:18:53Z', 'state': 'completed', 'running_at': '2018-07-27T09:16:54Z', 'finished_at': '2018-07-27T09:18:40Z', 'metrics': [], 'submitted_at': '2018-07-27T09:15:44Z'}\n",
      "{'current_at': '2018-07-27T09:18:53Z', 'state': 'completed', 'running_at': '2018-07-27T09:16:54Z', 'finished_at': '2018-07-27T09:18:40Z', 'metrics': [], 'submitted_at': '2018-07-27T09:15:44Z'}\n",
      "{'current_at': '2018-07-27T09:18:53Z', 'state': 'completed', 'running_at': '2018-07-27T09:16:54Z', 'finished_at': '2018-07-27T09:18:40Z', 'metrics': [], 'submitted_at': '2018-07-27T09:15:44Z'}\n",
      "{'current_at': '2018-07-27T09:18:53Z', 'state': 'completed', 'running_at': '2018-07-27T09:16:54Z', 'finished_at': '2018-07-27T09:18:40Z', 'metrics': [], 'submitted_at': '2018-07-27T09:15:44Z'}\n",
      "{'current_at': '2018-07-27T09:18:53Z', 'state': 'completed', 'running_at': '2018-07-27T09:16:54Z', 'finished_at': '2018-07-27T09:18:40Z', 'metrics': [], 'submitted_at': '2018-07-27T09:15:44Z'}\n",
      "{'current_at': '2018-07-27T09:18:53Z', 'state': 'completed', 'running_at': '2018-07-27T09:16:54Z', 'finished_at': '2018-07-27T09:18:40Z', 'metrics': [], 'submitted_at': '2018-07-27T09:15:44Z'}\n",
      "{'current_at': '2018-07-27T09:18:53Z', 'state': 'completed', 'running_at': '2018-07-27T09:16:54Z', 'finished_at': '2018-07-27T09:18:40Z', 'metrics': [], 'submitted_at': '2018-07-27T09:15:44Z'}\n",
      "{'current_at': '2018-07-27T09:18:53Z', 'state': 'completed', 'running_at': '2018-07-27T09:16:54Z', 'finished_at': '2018-07-27T09:18:40Z', 'metrics': [], 'submitted_at': '2018-07-27T09:15:44Z'}\n",
      "{'current_at': '2018-07-27T09:18:53Z', 'state': 'completed', 'running_at': '2018-07-27T09:16:54Z', 'finished_at': '2018-07-27T09:18:40Z', 'metrics': [], 'submitted_at': '2018-07-27T09:15:44Z'}\n",
      "{'current_at': '2018-07-27T09:18:53Z', 'state': 'completed', 'running_at': '2018-07-27T09:16:54Z', 'finished_at': '2018-07-27T09:18:40Z', 'metrics': [], 'submitted_at': '2018-07-27T09:15:44Z'}\n",
      "{'current_at': '2018-07-27T09:18:53Z', 'state': 'completed', 'running_at': '2018-07-27T09:16:54Z', 'finished_at': '2018-07-27T09:18:40Z', 'metrics': [], 'submitted_at': '2018-07-27T09:15:44Z'}\n",
      "{'current_at': '2018-07-27T09:18:53Z', 'state': 'completed', 'running_at': '2018-07-27T09:16:54Z', 'finished_at': '2018-07-27T09:18:40Z', 'metrics': [], 'submitted_at': '2018-07-27T09:15:44Z'}\n",
      "{'current_at': '2018-07-27T09:18:53Z', 'state': 'completed', 'running_at': '2018-07-27T09:16:54Z', 'finished_at': '2018-07-27T09:18:40Z', 'metrics': [], 'submitted_at': '2018-07-27T09:15:44Z'}\n",
      "{'current_at': '2018-07-27T09:18:53Z', 'state': 'completed', 'running_at': '2018-07-27T09:16:54Z', 'finished_at': '2018-07-27T09:18:40Z', 'metrics': [], 'submitted_at': '2018-07-27T09:15:44Z'}\n",
      "{'current_at': '2018-07-27T09:18:53Z', 'state': 'completed', 'running_at': '2018-07-27T09:16:54Z', 'finished_at': '2018-07-27T09:18:40Z', 'metrics': [], 'submitted_at': '2018-07-27T09:15:44Z'}\n",
      "{'current_at': '2018-07-27T09:18:53Z', 'state': 'completed', 'running_at': '2018-07-27T09:16:54Z', 'finished_at': '2018-07-27T09:18:40Z', 'metrics': [], 'submitted_at': '2018-07-27T09:15:44Z'}\n",
      "{'current_at': '2018-07-27T09:18:53Z', 'state': 'completed', 'running_at': '2018-07-27T09:16:54Z', 'finished_at': '2018-07-27T09:18:40Z', 'metrics': [], 'submitted_at': '2018-07-27T09:15:44Z'}\n",
      "{'current_at': '2018-07-27T09:18:53Z', 'state': 'completed', 'running_at': '2018-07-27T09:16:54Z', 'finished_at': '2018-07-27T09:18:40Z', 'metrics': [], 'submitted_at': '2018-07-27T09:15:44Z'}\n",
      "{'current_at': '2018-07-27T09:18:53Z', 'state': 'completed', 'running_at': '2018-07-27T09:16:54Z', 'finished_at': '2018-07-27T09:18:40Z', 'metrics': [], 'submitted_at': '2018-07-27T09:15:44Z'}\n",
      "{'current_at': '2018-07-27T09:18:53Z', 'state': 'completed', 'running_at': '2018-07-27T09:16:54Z', 'finished_at': '2018-07-27T09:18:40Z', 'metrics': [], 'submitted_at': '2018-07-27T09:15:44Z'}\n",
      "{'current_at': '2018-07-27T09:18:53Z', 'state': 'completed', 'running_at': '2018-07-27T09:16:54Z', 'finished_at': '2018-07-27T09:18:40Z', 'metrics': [], 'submitted_at': '2018-07-27T09:15:44Z'}\n",
      "{'current_at': '2018-07-27T09:18:53Z', 'state': 'completed', 'running_at': '2018-07-27T09:16:54Z', 'finished_at': '2018-07-27T09:18:40Z', 'metrics': [], 'submitted_at': '2018-07-27T09:15:44Z'}\n",
      "{'current_at': '2018-07-27T09:18:53Z', 'state': 'completed', 'running_at': '2018-07-27T09:16:54Z', 'finished_at': '2018-07-27T09:18:40Z', 'metrics': [], 'submitted_at': '2018-07-27T09:15:44Z'}\n",
      "{'current_at': '2018-07-27T09:18:53Z', 'state': 'completed', 'running_at': '2018-07-27T09:16:54Z', 'finished_at': '2018-07-27T09:18:40Z', 'metrics': [], 'submitted_at': '2018-07-27T09:15:44Z'}\n",
      "{'current_at': '2018-07-27T09:18:53Z', 'state': 'completed', 'running_at': '2018-07-27T09:16:54Z', 'finished_at': '2018-07-27T09:18:40Z', 'metrics': [], 'submitted_at': '2018-07-27T09:15:44Z'}\n",
      "{'current_at': '2018-07-27T09:18:53Z', 'state': 'completed', 'running_at': '2018-07-27T09:16:54Z', 'finished_at': '2018-07-27T09:18:40Z', 'metrics': [], 'submitted_at': '2018-07-27T09:15:44Z'}\n",
      "{'current_at': '2018-07-27T09:18:53Z', 'state': 'completed', 'running_at': '2018-07-27T09:16:54Z', 'finished_at': '2018-07-27T09:18:40Z', 'metrics': [], 'submitted_at': '2018-07-27T09:15:44Z'}\n",
      "{'current_at': '2018-07-27T09:18:53Z', 'state': 'completed', 'running_at': '2018-07-27T09:16:54Z', 'finished_at': '2018-07-27T09:18:40Z', 'metrics': [], 'submitted_at': '2018-07-27T09:15:44Z'}\n",
      "{'current_at': '2018-07-27T09:18:53Z', 'state': 'completed', 'running_at': '2018-07-27T09:16:54Z', 'finished_at': '2018-07-27T09:18:40Z', 'metrics': [], 'submitted_at': '2018-07-27T09:15:44Z'}\n",
      "{'current_at': '2018-07-27T09:18:53Z', 'state': 'completed', 'running_at': '2018-07-27T09:16:54Z', 'finished_at': '2018-07-27T09:18:40Z', 'metrics': [], 'submitted_at': '2018-07-27T09:15:44Z'}\n",
      "{'current_at': '2018-07-27T09:18:53Z', 'state': 'completed', 'running_at': '2018-07-27T09:16:54Z', 'finished_at': '2018-07-27T09:18:40Z', 'metrics': [], 'submitted_at': '2018-07-27T09:15:44Z'}\n",
      "{'current_at': '2018-07-27T09:18:53Z', 'state': 'completed', 'running_at': '2018-07-27T09:16:54Z', 'finished_at': '2018-07-27T09:18:40Z', 'metrics': [], 'submitted_at': '2018-07-27T09:15:44Z'}\n",
      "{'current_at': '2018-07-27T09:18:53Z', 'state': 'completed', 'running_at': '2018-07-27T09:16:54Z', 'finished_at': '2018-07-27T09:18:40Z', 'metrics': [], 'submitted_at': '2018-07-27T09:15:44Z'}\n",
      "{'current_at': '2018-07-27T09:18:53Z', 'state': 'completed', 'running_at': '2018-07-27T09:16:54Z', 'finished_at': '2018-07-27T09:18:40Z', 'metrics': [], 'submitted_at': '2018-07-27T09:15:44Z'}\n",
      "{'current_at': '2018-07-27T09:18:53Z', 'state': 'completed', 'running_at': '2018-07-27T09:16:54Z', 'finished_at': '2018-07-27T09:18:40Z', 'metrics': [], 'submitted_at': '2018-07-27T09:15:44Z'}\n",
      "{'current_at': '2018-07-27T09:18:53Z', 'state': 'completed', 'running_at': '2018-07-27T09:16:54Z', 'finished_at': '2018-07-27T09:18:40Z', 'metrics': [], 'submitted_at': '2018-07-27T09:15:44Z'}\n",
      "{'current_at': '2018-07-27T09:18:53Z', 'state': 'completed', 'running_at': '2018-07-27T09:16:54Z', 'finished_at': '2018-07-27T09:18:40Z', 'metrics': [], 'submitted_at': '2018-07-27T09:15:44Z'}\n",
      "{'current_at': '2018-07-27T09:18:53Z', 'state': 'completed', 'running_at': '2018-07-27T09:16:54Z', 'finished_at': '2018-07-27T09:18:40Z', 'metrics': [], 'submitted_at': '2018-07-27T09:15:44Z'}\n",
      "{'current_at': '2018-07-27T09:18:53Z', 'state': 'completed', 'running_at': '2018-07-27T09:16:54Z', 'finished_at': '2018-07-27T09:18:40Z', 'metrics': [], 'submitted_at': '2018-07-27T09:15:44Z'}\n",
      "{'current_at': '2018-07-27T09:18:53Z', 'state': 'completed', 'running_at': '2018-07-27T09:16:54Z', 'finished_at': '2018-07-27T09:18:40Z', 'metrics': [], 'submitted_at': '2018-07-27T09:15:44Z'}\n",
      "{'current_at': '2018-07-27T09:18:53Z', 'state': 'completed', 'running_at': '2018-07-27T09:16:54Z', 'finished_at': '2018-07-27T09:18:40Z', 'metrics': [], 'submitted_at': '2018-07-27T09:15:44Z'}\n",
      "{'current_at': '2018-07-27T09:18:53Z', 'state': 'completed', 'running_at': '2018-07-27T09:16:54Z', 'finished_at': '2018-07-27T09:18:40Z', 'metrics': [], 'submitted_at': '2018-07-27T09:15:44Z'}\n",
      "{'current_at': '2018-07-27T09:18:53Z', 'state': 'completed', 'running_at': '2018-07-27T09:16:54Z', 'finished_at': '2018-07-27T09:18:40Z', 'metrics': [], 'submitted_at': '2018-07-27T09:15:44Z'}\n",
      "{'current_at': '2018-07-27T09:18:53Z', 'state': 'completed', 'running_at': '2018-07-27T09:16:54Z', 'finished_at': '2018-07-27T09:18:40Z', 'metrics': [], 'submitted_at': '2018-07-27T09:15:44Z'}\n",
      "{'current_at': '2018-07-27T09:18:53Z', 'state': 'completed', 'running_at': '2018-07-27T09:16:54Z', 'finished_at': '2018-07-27T09:18:40Z', 'metrics': [], 'submitted_at': '2018-07-27T09:15:44Z'}\n",
      "{'current_at': '2018-07-27T09:18:53Z', 'state': 'completed', 'running_at': '2018-07-27T09:16:54Z', 'finished_at': '2018-07-27T09:18:40Z', 'metrics': [], 'submitted_at': '2018-07-27T09:15:44Z'}\n",
      "{'current_at': '2018-07-27T09:18:53Z', 'state': 'completed', 'running_at': '2018-07-27T09:16:54Z', 'finished_at': '2018-07-27T09:18:40Z', 'metrics': [], 'submitted_at': '2018-07-27T09:15:44Z'}\n",
      "{'current_at': '2018-07-27T09:18:53Z', 'state': 'completed', 'running_at': '2018-07-27T09:16:54Z', 'finished_at': '2018-07-27T09:18:40Z', 'metrics': [], 'submitted_at': '2018-07-27T09:15:44Z'}\n",
      "{'current_at': '2018-07-27T09:18:53Z', 'state': 'completed', 'running_at': '2018-07-27T09:16:54Z', 'finished_at': '2018-07-27T09:18:40Z', 'metrics': [], 'submitted_at': '2018-07-27T09:15:44Z'}\n",
      "{'current_at': '2018-07-27T09:18:53Z', 'state': 'completed', 'running_at': '2018-07-27T09:16:54Z', 'finished_at': '2018-07-27T09:18:40Z', 'metrics': [], 'submitted_at': '2018-07-27T09:15:44Z'}\n",
      "{'current_at': '2018-07-27T09:18:53Z', 'state': 'completed', 'running_at': '2018-07-27T09:16:54Z', 'finished_at': '2018-07-27T09:18:40Z', 'metrics': [], 'submitted_at': '2018-07-27T09:15:44Z'}\n",
      "{'current_at': '2018-07-27T09:18:53Z', 'state': 'completed', 'running_at': '2018-07-27T09:16:54Z', 'finished_at': '2018-07-27T09:18:40Z', 'metrics': [], 'submitted_at': '2018-07-27T09:15:44Z'}\n",
      "{'current_at': '2018-07-27T09:18:53Z', 'state': 'completed', 'running_at': '2018-07-27T09:16:54Z', 'finished_at': '2018-07-27T09:18:40Z', 'metrics': [], 'submitted_at': '2018-07-27T09:15:44Z'}\n",
      "{'current_at': '2018-07-27T09:18:53Z', 'state': 'completed', 'running_at': '2018-07-27T09:16:54Z', 'finished_at': '2018-07-27T09:18:40Z', 'metrics': [], 'submitted_at': '2018-07-27T09:15:44Z'}\n",
      "{'current_at': '2018-07-27T09:18:53Z', 'state': 'completed', 'running_at': '2018-07-27T09:16:54Z', 'finished_at': '2018-07-27T09:18:40Z', 'metrics': [], 'submitted_at': '2018-07-27T09:15:44Z'}\n",
      "{'current_at': '2018-07-27T09:18:53Z', 'state': 'completed', 'running_at': '2018-07-27T09:16:54Z', 'finished_at': '2018-07-27T09:18:40Z', 'metrics': [], 'submitted_at': '2018-07-27T09:15:44Z'}\n",
      "{'current_at': '2018-07-27T09:18:53Z', 'state': 'completed', 'running_at': '2018-07-27T09:16:54Z', 'finished_at': '2018-07-27T09:18:40Z', 'metrics': [], 'submitted_at': '2018-07-27T09:15:44Z'}\n",
      "{'current_at': '2018-07-27T09:18:53Z', 'state': 'completed', 'running_at': '2018-07-27T09:16:54Z', 'finished_at': '2018-07-27T09:18:40Z', 'metrics': [], 'submitted_at': '2018-07-27T09:15:44Z'}\n",
      "{'current_at': '2018-07-27T09:18:53Z', 'state': 'completed', 'running_at': '2018-07-27T09:16:54Z', 'finished_at': '2018-07-27T09:18:40Z', 'metrics': [], 'submitted_at': '2018-07-27T09:15:44Z'}\n",
      "{'current_at': '2018-07-27T09:18:53Z', 'state': 'completed', 'running_at': '2018-07-27T09:16:54Z', 'finished_at': '2018-07-27T09:18:40Z', 'metrics': [], 'submitted_at': '2018-07-27T09:15:44Z'}\n",
      "{'current_at': '2018-07-27T09:18:53Z', 'state': 'completed', 'running_at': '2018-07-27T09:16:54Z', 'finished_at': '2018-07-27T09:18:40Z', 'metrics': [], 'submitted_at': '2018-07-27T09:15:44Z'}\n",
      "{'current_at': '2018-07-27T09:18:53Z', 'state': 'completed', 'running_at': '2018-07-27T09:16:54Z', 'finished_at': '2018-07-27T09:18:40Z', 'metrics': [], 'submitted_at': '2018-07-27T09:15:44Z'}\n",
      "{'current_at': '2018-07-27T09:18:53Z', 'state': 'completed', 'running_at': '2018-07-27T09:16:54Z', 'finished_at': '2018-07-27T09:18:40Z', 'metrics': [], 'submitted_at': '2018-07-27T09:15:44Z'}\n",
      "{'current_at': '2018-07-27T09:18:53Z', 'state': 'completed', 'running_at': '2018-07-27T09:16:54Z', 'finished_at': '2018-07-27T09:18:40Z', 'metrics': [], 'submitted_at': '2018-07-27T09:15:44Z'}\n",
      "{'current_at': '2018-07-27T09:18:53Z', 'state': 'completed', 'running_at': '2018-07-27T09:16:54Z', 'finished_at': '2018-07-27T09:18:40Z', 'metrics': [], 'submitted_at': '2018-07-27T09:15:44Z'}\n",
      "{'current_at': '2018-07-27T09:18:53Z', 'state': 'completed', 'running_at': '2018-07-27T09:16:54Z', 'finished_at': '2018-07-27T09:18:40Z', 'metrics': [], 'submitted_at': '2018-07-27T09:15:44Z'}\n",
      "{'current_at': '2018-07-27T09:18:53Z', 'state': 'completed', 'running_at': '2018-07-27T09:16:54Z', 'finished_at': '2018-07-27T09:18:40Z', 'metrics': [], 'submitted_at': '2018-07-27T09:15:44Z'}\n",
      "{'current_at': '2018-07-27T09:18:53Z', 'state': 'completed', 'running_at': '2018-07-27T09:16:54Z', 'finished_at': '2018-07-27T09:18:40Z', 'metrics': [], 'submitted_at': '2018-07-27T09:15:44Z'}\n",
      "{'current_at': '2018-07-27T09:18:53Z', 'state': 'completed', 'running_at': '2018-07-27T09:16:54Z', 'finished_at': '2018-07-27T09:18:40Z', 'metrics': [], 'submitted_at': '2018-07-27T09:15:44Z'}\n",
      "{'current_at': '2018-07-27T09:18:53Z', 'state': 'completed', 'running_at': '2018-07-27T09:16:54Z', 'finished_at': '2018-07-27T09:18:40Z', 'metrics': [], 'submitted_at': '2018-07-27T09:15:44Z'}\n",
      "{'current_at': '2018-07-27T09:18:53Z', 'state': 'completed', 'running_at': '2018-07-27T09:16:54Z', 'finished_at': '2018-07-27T09:18:40Z', 'metrics': [], 'submitted_at': '2018-07-27T09:15:44Z'}\n",
      "{'current_at': '2018-07-27T09:18:53Z', 'state': 'completed', 'running_at': '2018-07-27T09:16:54Z', 'finished_at': '2018-07-27T09:18:40Z', 'metrics': [], 'submitted_at': '2018-07-27T09:15:44Z'}\n",
      "{'current_at': '2018-07-27T09:18:53Z', 'state': 'completed', 'running_at': '2018-07-27T09:16:54Z', 'finished_at': '2018-07-27T09:18:40Z', 'metrics': [], 'submitted_at': '2018-07-27T09:15:44Z'}\n",
      "{'current_at': '2018-07-27T09:18:53Z', 'state': 'completed', 'running_at': '2018-07-27T09:16:54Z', 'finished_at': '2018-07-27T09:18:40Z', 'metrics': [], 'submitted_at': '2018-07-27T09:15:44Z'}\n",
      "{'current_at': '2018-07-27T09:18:53Z', 'state': 'completed', 'running_at': '2018-07-27T09:16:54Z', 'finished_at': '2018-07-27T09:18:40Z', 'metrics': [], 'submitted_at': '2018-07-27T09:15:44Z'}\n",
      "{'current_at': '2018-07-27T09:18:53Z', 'state': 'completed', 'running_at': '2018-07-27T09:16:54Z', 'finished_at': '2018-07-27T09:18:40Z', 'metrics': [], 'submitted_at': '2018-07-27T09:15:44Z'}\n",
      "{'current_at': '2018-07-27T09:18:53Z', 'state': 'completed', 'running_at': '2018-07-27T09:16:54Z', 'finished_at': '2018-07-27T09:18:40Z', 'metrics': [], 'submitted_at': '2018-07-27T09:15:44Z'}\n"
     ]
    },
    {
     "ename": "KeyboardInterrupt",
     "evalue": "",
     "output_type": "error",
     "traceback": [
      "\u001b[0;31m---------------------------------------------------------------------------\u001b[0m",
      "\u001b[0;31mKeyboardInterrupt\u001b[0m                         Traceback (most recent call last)",
      "\u001b[0;32m<ipython-input-78-93563a17fb3b>\u001b[0m in \u001b[0;36m<module>\u001b[0;34m()\u001b[0m\n\u001b[1;32m      2\u001b[0m \u001b[0;32mwhile\u001b[0m \u001b[0;36m1\u001b[0m\u001b[0;34m:\u001b[0m\u001b[0;34m\u001b[0m\u001b[0m\n\u001b[1;32m      3\u001b[0m     \u001b[0mprint\u001b[0m\u001b[0;34m(\u001b[0m\u001b[0mclient\u001b[0m\u001b[0;34m.\u001b[0m\u001b[0mtraining\u001b[0m\u001b[0;34m.\u001b[0m\u001b[0mget_status\u001b[0m\u001b[0;34m(\u001b[0m \u001b[0mrun_uid\u001b[0m \u001b[0;34m)\u001b[0m\u001b[0;34m)\u001b[0m\u001b[0;34m\u001b[0m\u001b[0m\n\u001b[0;32m----> 4\u001b[0;31m     \u001b[0mtime\u001b[0m\u001b[0;34m.\u001b[0m\u001b[0msleep\u001b[0m\u001b[0;34m(\u001b[0m\u001b[0;36m10\u001b[0m\u001b[0;34m)\u001b[0m\u001b[0;34m\u001b[0m\u001b[0m\n\u001b[0m\u001b[1;32m      5\u001b[0m \u001b[0;31m# client.training.get_status( run_uid )\u001b[0m\u001b[0;34m\u001b[0m\u001b[0;34m\u001b[0m\u001b[0m\n",
      "\u001b[0;31mKeyboardInterrupt\u001b[0m: "
     ]
    }
   ],
   "source": [
    "import time\n",
    "while 1:\n",
    "    print(client.training.get_status( run_uid ))\n",
    "    time.sleep(10)\n",
    "# client.training.get_status( run_uid )"
   ]
  },
  {
   "cell_type": "code",
   "execution_count": 37,
   "metadata": {},
   "outputs": [],
   "source": [
    "# client.experiments.monitor_logs(run_uid)"
   ]
  },
  {
   "cell_type": "code",
   "execution_count": 38,
   "metadata": {},
   "outputs": [
    {
     "name": "stdout",
     "output_type": "stream",
     "text": [
      "master-add.zip\tmaster.zip  wktest-master\r\n"
     ]
    }
   ],
   "source": [
    "!ls"
   ]
  },
  {
   "cell_type": "code",
   "execution_count": null,
   "metadata": {},
   "outputs": [],
   "source": []
  },
  {
   "cell_type": "code",
   "execution_count": null,
   "metadata": {},
   "outputs": [],
   "source": []
  }
 ],
 "metadata": {
  "kernelspec": {
   "display_name": "Python 3.5",
   "language": "python",
   "name": "python3"
  },
  "language_info": {
   "codemirror_mode": {
    "name": "ipython",
    "version": 3
   },
   "file_extension": ".py",
   "mimetype": "text/x-python",
   "name": "python",
   "nbconvert_exporter": "python",
   "pygments_lexer": "ipython3",
   "version": "3.5.5"
  }
 },
 "nbformat": 4,
 "nbformat_minor": 1
}
